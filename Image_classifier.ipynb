{
  "nbformat": 4,
  "nbformat_minor": 0,
  "metadata": {
    "colab": {
      "name": "Image classifier.ipynb",
      "provenance": [],
      "collapsed_sections": []
    },
    "kernelspec": {
      "name": "python3",
      "display_name": "Python 3"
    },
    "language_info": {
      "name": "python"
    }
  },
  "cells": [
    {
      "cell_type": "code",
      "execution_count": null,
      "metadata": {
        "colab": {
          "base_uri": "https://localhost:8080/"
        },
        "id": "vIWCwJINlBR8",
        "outputId": "4d3b57a4-45ce-414f-a164-93ceece20287"
      },
      "outputs": [
        {
          "output_type": "stream",
          "name": "stdout",
          "text": [
            "Looking in indexes: https://pypi.org/simple, https://us-python.pkg.dev/colab-wheels/public/simple/\n",
            "Collecting bing-image-downloader\n",
            "  Downloading bing_image_downloader-1.1.2-py3-none-any.whl (5.9 kB)\n",
            "Installing collected packages: bing-image-downloader\n",
            "Successfully installed bing-image-downloader-1.1.2\n"
          ]
        }
      ],
      "source": [
        "!pip install bing-image-downloader"
      ]
    },
    {
      "cell_type": "code",
      "source": [
        "!pip install ipython-autotime\n",
        "%load_ext autotime"
      ],
      "metadata": {
        "colab": {
          "base_uri": "https://localhost:8080/"
        },
        "id": "OqnR_-cblDe0",
        "outputId": "3ea96fbe-1c33-448d-c833-ee9301977c1c"
      },
      "execution_count": null,
      "outputs": [
        {
          "output_type": "stream",
          "name": "stdout",
          "text": [
            "Looking in indexes: https://pypi.org/simple, https://us-python.pkg.dev/colab-wheels/public/simple/\n",
            "Collecting ipython-autotime\n",
            "  Downloading ipython_autotime-0.3.1-py2.py3-none-any.whl (6.8 kB)\n",
            "Requirement already satisfied: ipython in /usr/local/lib/python3.7/dist-packages (from ipython-autotime) (5.5.0)\n",
            "Requirement already satisfied: traitlets>=4.2 in /usr/local/lib/python3.7/dist-packages (from ipython->ipython-autotime) (5.1.1)\n",
            "Requirement already satisfied: pickleshare in /usr/local/lib/python3.7/dist-packages (from ipython->ipython-autotime) (0.7.5)\n",
            "Requirement already satisfied: prompt-toolkit<2.0.0,>=1.0.4 in /usr/local/lib/python3.7/dist-packages (from ipython->ipython-autotime) (1.0.18)\n",
            "Requirement already satisfied: simplegeneric>0.8 in /usr/local/lib/python3.7/dist-packages (from ipython->ipython-autotime) (0.8.1)\n",
            "Requirement already satisfied: pygments in /usr/local/lib/python3.7/dist-packages (from ipython->ipython-autotime) (2.6.1)\n",
            "Requirement already satisfied: setuptools>=18.5 in /usr/local/lib/python3.7/dist-packages (from ipython->ipython-autotime) (57.4.0)\n",
            "Requirement already satisfied: decorator in /usr/local/lib/python3.7/dist-packages (from ipython->ipython-autotime) (4.4.2)\n",
            "Requirement already satisfied: pexpect in /usr/local/lib/python3.7/dist-packages (from ipython->ipython-autotime) (4.8.0)\n",
            "Requirement already satisfied: wcwidth in /usr/local/lib/python3.7/dist-packages (from prompt-toolkit<2.0.0,>=1.0.4->ipython->ipython-autotime) (0.2.5)\n",
            "Requirement already satisfied: six>=1.9.0 in /usr/local/lib/python3.7/dist-packages (from prompt-toolkit<2.0.0,>=1.0.4->ipython->ipython-autotime) (1.15.0)\n",
            "Requirement already satisfied: ptyprocess>=0.5 in /usr/local/lib/python3.7/dist-packages (from pexpect->ipython->ipython-autotime) (0.7.0)\n",
            "Installing collected packages: ipython-autotime\n",
            "Successfully installed ipython-autotime-0.3.1\n",
            "time: 139 µs (started: 2022-07-17 19:13:29 +00:00)\n"
          ]
        }
      ]
    },
    {
      "cell_type": "code",
      "source": [
        "!mkdir image_classyy"
      ],
      "metadata": {
        "colab": {
          "base_uri": "https://localhost:8080/"
        },
        "id": "hjfBWnOjlGqI",
        "outputId": "69e54dab-4159-475c-971a-25fc30193c0d"
      },
      "execution_count": null,
      "outputs": [
        {
          "output_type": "stream",
          "name": "stdout",
          "text": [
            "time: 142 ms (started: 2022-07-17 19:13:35 +00:00)\n"
          ]
        }
      ]
    },
    {
      "cell_type": "code",
      "source": [
        "#limit acutally states that no of images we need\n",
        "\n",
        "from  bing_image_downloader import downloader\n",
        "\n",
        "# downloaded these all and stored in \"OUTPUT_DIR\"\n",
        "downloader.download(\"pretty sunflower\",limit=20,output_dir='image_classyy',adult_filter_off=True)\n",
        "downloader.download(\"rugby ball leather\",limit=20,output_dir='image_classyy',adult_filter_off=True)\n",
        "downloader.download(\"ice cream cone\",limit=20,output_dir='image_classyy',adult_filter_off=True)"
      ],
      "metadata": {
        "colab": {
          "base_uri": "https://localhost:8080/"
        },
        "id": "NH-AzNrmlJFi",
        "outputId": "5e8de03c-f738-4bba-a32c-8fbabde9511f"
      },
      "execution_count": null,
      "outputs": [
        {
          "output_type": "stream",
          "name": "stdout",
          "text": [
            "[%] Downloading Images to /content/image_classyy/pretty sunflower\n",
            "\n",
            "\n",
            "[!!]Indexing page: 1\n",
            "\n",
            "[%] Indexed 16 Images on Page 1.\n",
            "\n",
            "===============================================\n",
            "\n",
            "[%] Downloading Image #1 from http://cooldigitalphotography.com/wp-content/uploads/2013/11/Sunflower8.jpg\n",
            "[%] File Downloaded !\n",
            "\n",
            "[%] Downloading Image #2 from http://3.bp.blogspot.com/-og7QbHa50eU/Tui705DQZ5I/AAAAAAAABMk/tchY2w9Qzp8/s1600/Flower53.jpg\n",
            "[%] File Downloaded !\n",
            "\n",
            "[%] Downloading Image #3 from http://www.saphireeventgroup.com/wp-content/uploads/files/6314/0916/2507/colorful_bridal_bouquets_6.jpg\n",
            "[%] File Downloaded !\n",
            "\n",
            "[%] Downloading Image #4 from https://live.staticflickr.com/6006/5974884640_c7d6de5dff_b.jpg\n",
            "[%] File Downloaded !\n",
            "\n",
            "[%] Downloading Image #5 from https://www.wallpapers13.com/wp-content/uploads/2020/02/Plants-Field-with-Sunflower-flowers-with-yellow-petals-Sunset-Landscape-photography-Wallpaper-Hd-.jpg\n",
            "[%] File Downloaded !\n",
            "\n",
            "[%] Downloading Image #6 from https://i.pinimg.com/236x/40/ad/34/40ad3421116831e88cd397281c9e71fb--sun-flowers-pretty-flowers.jpg\n",
            "[%] File Downloaded !\n",
            "\n",
            "[%] Downloading Image #7 from https://whippedbakeshop.com/wp-content/uploads/2021/01/sunflower-cupcakes-whipped-bakeshop-2-1152x1536.jpg\n",
            "[%] File Downloaded !\n",
            "\n",
            "[%] Downloading Image #8 from https://media.phillyvoice.com/media/images/sunflower_090819.2e16d0ba.fill-1200x630-c0.jpg\n",
            "[%] File Downloaded !\n",
            "\n",
            "[%] Downloading Image #9 from https://i.pinimg.com/736x/31/e8/ca/31e8ca417e1acc857ab398e72303c1c2.jpg\n",
            "[%] File Downloaded !\n",
            "\n",
            "[%] Downloading Image #10 from https://www.cheapflowersdelivered.org.uk/wp-content/uploads/2021/07/Sunflower-Beauty.jpg\n",
            "[Error]Invalid image, not saving https://www.cheapflowersdelivered.org.uk/wp-content/uploads/2021/07/Sunflower-Beauty.jpg\n",
            "\n",
            "[!] Issue getting: https://www.cheapflowersdelivered.org.uk/wp-content/uploads/2021/07/Sunflower-Beauty.jpg\n",
            "[!] Error:: Invalid image, not saving https://www.cheapflowersdelivered.org.uk/wp-content/uploads/2021/07/Sunflower-Beauty.jpg\n",
            "\n",
            "[%] Downloading Image #10 from https://66.media.tumblr.com/44d35612a2a7601c2f8c8d35cf820193/tumblr_nqalbc4ywM1rwrn5zo1_500.jpg\n",
            "[Error]Invalid image, not saving https://66.media.tumblr.com/44d35612a2a7601c2f8c8d35cf820193/tumblr_nqalbc4ywM1rwrn5zo1_500.jpg\n",
            "\n",
            "[!] Issue getting: https://66.media.tumblr.com/44d35612a2a7601c2f8c8d35cf820193/tumblr_nqalbc4ywM1rwrn5zo1_500.jpg\n",
            "[!] Error:: Invalid image, not saving https://66.media.tumblr.com/44d35612a2a7601c2f8c8d35cf820193/tumblr_nqalbc4ywM1rwrn5zo1_500.jpg\n",
            "\n",
            "[%] Downloading Image #10 from https://live.staticflickr.com/65535/50211074951_01a7075e8b_b.jpg\n",
            "[!] Issue getting: https://live.staticflickr.com/65535/50211074951_01a7075e8b_b.jpg\n",
            "[!] Error:: HTTP Error 404: Not Found\n",
            "[%] Downloading Image #10 from https://www.jessicawesolek.com/art-full-life/wp-content/uploads/2015/08/sunflowers.jpg\n",
            "[%] File Downloaded !\n",
            "\n",
            "[%] Downloading Image #11 from https://i.pinimg.com/474x/18/bd/b1/18bdb17f634d37070c8bf9b527b5f92d--sun-flowers-pretty-flowers.jpg\n",
            "[%] File Downloaded !\n",
            "\n",
            "[%] Downloading Image #12 from https://www.makeitgrateful.com/wp-content/uploads/2019/01/sunflower.jpg\n",
            "[%] File Downloaded !\n",
            "\n",
            "[%] Downloading Image #13 from https://i.pinimg.com/736x/6a/89/49/6a89494c7bc1f7cb426d3a2f9936c645.jpg\n",
            "[%] File Downloaded !\n",
            "\n",
            "\n",
            "\n",
            "[!!]Indexing page: 2\n",
            "\n",
            "[%] Indexed 15 Images on Page 2.\n",
            "\n",
            "===============================================\n",
            "\n",
            "[%] Downloading Image #14 from https://www.10wallpaper.com/wallpaper/2560x1440/1802/Pretty_sunflower_flowers_plant_closeup_2560x1440.jpg\n",
            "[%] File Downloaded !\n",
            "\n",
            "[%] Downloading Image #15 from https://i.pinimg.com/474x/b8/e1/af/b8e1af33265f2e91f52cf42c58df919d--sun-flowers-pretty-flowers.jpg\n",
            "[%] File Downloaded !\n",
            "\n",
            "[%] Downloading Image #16 from https://i.pinimg.com/736x/9f/8f/d6/9f8fd63d82f2492ab7b33de8145bc0b4--sunflower-centerpieces-dahlia-bouquet.jpg\n",
            "[%] File Downloaded !\n",
            "\n",
            "[%] Downloading Image #17 from http://farm6.staticflickr.com/5213/5521196792_311c527bec_z.jpg\n",
            "[%] File Downloaded !\n",
            "\n",
            "[%] Downloading Image #18 from http://www.imagensparawhats.club/wp-content/uploads/2019/08/imagens-de-girassol-8.jpg\n",
            "[%] File Downloaded !\n",
            "\n",
            "[%] Downloading Image #19 from http://www.wallpapers13.com/wp-content/uploads/2015/12/Ginger-big-orange-flower-0485-1680x1050.jpg\n",
            "[%] File Downloaded !\n",
            "\n",
            "[%] Downloading Image #20 from http://www.prettydesigns.com/wp-content/uploads/2014/09/Peony-Tattoo.jpg\n",
            "[%] File Downloaded !\n",
            "\n",
            "\n",
            "\n",
            "[%] Done. Downloaded 20 images.\n",
            "[%] Downloading Images to /content/image_classyy/rugby ball leather\n",
            "\n",
            "\n",
            "[!!]Indexing page: 1\n",
            "\n",
            "[%] Indexed 16 Images on Page 1.\n",
            "\n",
            "===============================================\n",
            "\n",
            "[%] Downloading Image #1 from https://cdn.shopify.com/s/files/1/0788/5979/products/mvp-leather-balls-heritage-leather-rugby-ball-2_1024x1024.jpg?v=1550134680\n",
            "[%] File Downloaded !\n",
            "\n",
            "[%] Downloading Image #2 from https://cdn.shopify.com/s/files/1/0226/2169/products/Chromexcel_2048x2048_V2_760x.jpg?v=1511272699\n",
            "[%] File Downloaded !\n",
            "\n",
            "[%] Downloading Image #3 from https://cdn.shopify.com/s/files/1/0226/2169/collections/CXLRugby60002.jpg?v=1456244018\n",
            "[%] File Downloaded !\n",
            "\n",
            "[%] Downloading Image #4 from https://cdn.shopify.com/s/files/1/0226/2169/products/Chromexcel_2048x2048_V1_760x.jpg?v=1511272698'\n",
            "[%] File Downloaded !\n",
            "\n",
            "[%] Downloading Image #5 from https://images.selency.com/868026af-53c6-49a1-9bc6-eebfe0bbd210/old-leather-rugby-ball_original.png?bg_color=FFF&amp;bg=FFF&amp;fit=fill&amp;func=fit&amp;auto=format%2Ccompress&amp;h=1360&amp;meta_format=product_zoom_image&amp;fm=jpg\n",
            "[%] File Downloaded !\n",
            "\n",
            "[%] Downloading Image #6 from https://2.imimg.com/data2/CM/KH/MY-2811504/leather-rugby-ball-250x250.jpg\n",
            "[%] File Downloaded !\n",
            "\n",
            "[%] Downloading Image #7 from https://sc01.alicdn.com/kf/HTB14igibMMPMeJjy1Xd761srXXaC/225480363/HTB14igibMMPMeJjy1Xd761srXXaC.png\n",
            "[%] File Downloaded !\n",
            "\n",
            "[%] Downloading Image #8 from https://2.imimg.com/data2/LM/RQ/MY-2811504/leather-rugby-ball-250x250.jpg\n",
            "[%] File Downloaded !\n",
            "\n",
            "[%] Downloading Image #9 from https://bricabrac.co.uk/v1/wp-content/uploads/2018/10/Rugby-ball-1024x683.jpg\n",
            "[%] File Downloaded !\n",
            "\n",
            "[%] Downloading Image #10 from https://spartacus-educational.com/Fballs1.jpg\n",
            "[%] File Downloaded !\n",
            "\n",
            "[%] Downloading Image #11 from https://sc02.alicdn.com/kf/U4fbecee4121e4b7b8cf9acca310b2054f/1096099/U4fbecee4121e4b7b8cf9acca310b2054f.jpg\n",
            "[%] File Downloaded !\n",
            "\n",
            "[%] Downloading Image #12 from http://www.sportsballshop.co.uk/acatalog/DukesSelectMatch.jpg\n",
            "[%] File Downloaded !\n",
            "\n",
            "[%] Downloading Image #13 from https://static.vecteezy.com/system/resources/previews/000/111/555/original/hand-drawn-leather-football-vector-texture.jpg\n",
            "[%] File Downloaded !\n",
            "\n",
            "[%] Downloading Image #14 from http://www.prodirectrugby.com/productimages/V3_1_Main/62296.jpg\n",
            "[!] Issue getting: http://www.prodirectrugby.com/productimages/V3_1_Main/62296.jpg\n",
            "[!] Error:: HTTP Error 403: Forbidden\n",
            "[%] Downloading Image #14 from https://openclipart.org/image/2400px/svg_to_png/4456/molumen-Rugby-ball.png\n",
            "[%] File Downloaded !\n",
            "\n",
            "[%] Downloading Image #15 from https://static.vecteezy.com/system/resources/previews/000/109/285/non_2x/footbal-texture-vector.jpg\n",
            "[%] File Downloaded !\n",
            "\n",
            "\n",
            "\n",
            "[!!]Indexing page: 2\n",
            "\n",
            "[%] Indexed 16 Images on Page 2.\n",
            "\n",
            "===============================================\n",
            "\n",
            "\n",
            "\n",
            "[!!]Indexing page: 3\n",
            "\n",
            "[%] Indexed 15 Images on Page 3.\n",
            "\n",
            "===============================================\n",
            "\n",
            "\n",
            "\n",
            "[!!]Indexing page: 4\n",
            "\n",
            "[%] Indexed 15 Images on Page 4.\n",
            "\n",
            "===============================================\n",
            "\n",
            "[%] Downloading Image #16 from https://cdn.shopify.com/s/files/1/0226/2169/products/Chromexcel_2048x2048_V2.jpg?v=1511272699\n",
            "[%] File Downloaded !\n",
            "\n",
            "[%] Downloading Image #17 from https://a.1stdibscdn.com/archivesE/upload/1722654/f_57479931476893001245/1_org_l.jpg\n",
            "[%] File Downloaded !\n",
            "\n",
            "[%] Downloading Image #18 from http://skbassansports.com/wp-content/uploads/2019/01/DSC_0185-copy-600x600.png\n",
            "[%] File Downloaded !\n",
            "\n",
            "[%] Downloading Image #19 from https://cdn.shopify.com/s/files/1/0068/0227/6407/products/2600_20RAAA13_2082001205_20Ball_20Leather_20Vint_20Dk_20Tan_20Sz5_1024x1024.jpg?v=1557417173\n",
            "[%] File Downloaded !\n",
            "\n",
            "[%] Downloading Image #20 from https://a.1stdibscdn.com/archivesE/upload/1121195/f_57479931476891124426/3_l.jpg\n",
            "[%] File Downloaded !\n",
            "\n",
            "\n",
            "\n",
            "[%] Done. Downloaded 20 images.\n",
            "[%] Downloading Images to /content/image_classyy/ice cream cone\n",
            "\n",
            "\n",
            "[!!]Indexing page: 1\n",
            "\n",
            "[%] Indexed 17 Images on Page 1.\n",
            "\n",
            "===============================================\n",
            "\n",
            "[%] Downloading Image #1 from https://static01.nyt.com/images/2013/06/02/magazine/02wmt/02wmt-blog427-v3.jpg\n",
            "[%] File Downloaded !\n",
            "\n",
            "[%] Downloading Image #2 from http://www.lovesouthend.co.uk/wp-content/uploads/2014/10/ice-cream-cone.png\n",
            "[%] File Downloaded !\n",
            "\n",
            "[%] Downloading Image #3 from https://www.bestmobile.pk/wallpapers/download_file/Original_1530193191pexels-photo-890500.jpeg\n",
            "[%] File Downloaded !\n",
            "\n",
            "[%] Downloading Image #4 from https://static01.nyt.com/images/2013/06/02/magazine/02wmt/mag-02WMT-t_CA0-videoLarge.jpg\n",
            "[%] File Downloaded !\n",
            "\n",
            "[%] Downloading Image #5 from https://www.organicauthority.com/.image/t_share/MTU5MzMwMzAxOTI0NzQ2NDU0/ice-cream-cone-ccflcr-kern-justin.jpg\n",
            "[%] File Downloaded !\n",
            "\n",
            "[%] Downloading Image #6 from https://www.momsandmunchkins.ca/wp-content/uploads/2017/05/ice-cream-nachos-1-683x1024.jpg\n",
            "[%] File Downloaded !\n",
            "\n",
            "[%] Downloading Image #7 from https://bigtopentertainment.biz/wp-content/uploads/ice-cream-cone-4.jpg\n",
            "[%] File Downloaded !\n",
            "\n",
            "[%] Downloading Image #8 from http://d1in1towyr636m.cloudfront.net/wp-content/uploads/2013/11/ice-cream-cone.jpg\n",
            "[%] File Downloaded !\n",
            "\n",
            "[%] Downloading Image #9 from https://img2.mashed.com/img/gallery/fast-food-ice-cream-cones-ranked-worst-to-best/1-dairy-queens-chocolate-dipped-cone-1619103289.jpg\n",
            "[%] File Downloaded !\n",
            "\n",
            "[%] Downloading Image #10 from https://images-eu.ssl-images-amazon.com/images/I/41Shj7kJw8L._AC_US160_.jpg\n",
            "[%] File Downloaded !\n",
            "\n",
            "[%] Downloading Image #11 from https://media.consumeraffairs.com/files/news/Ice_cream_cones_GMVozd_Getty_Images.jpg\n",
            "[%] File Downloaded !\n",
            "\n",
            "[%] Downloading Image #12 from http://media-cache-ec0.pinimg.com/736x/96/f4/ad/96f4ade41334c3053d2feee2b4cd1391.jpg\n",
            "[%] File Downloaded !\n",
            "\n",
            "[%] Downloading Image #13 from https://s3.envato.com/files/218162781/review Image Set/ICC5.jpg\n",
            "[!] Issue getting: https://s3.envato.com/files/218162781/review Image Set/ICC5.jpg\n",
            "[!] Error:: URL can't contain control characters. '/files/218162781/review Image Set/ICC5.jpg' (found at least ' ')\n",
            "[%] Downloading Image #13 from https://www.peters.com.au/wp-content/uploads/2020/03/Header_Banner_Drumstick_Brand_Hub_Desktop_FA04.jpg\n",
            "[%] File Downloaded !\n",
            "\n",
            "[%] Downloading Image #14 from http://akns-images.eonline.com/eol_images/Entire_Site/2014910/rs_300x300-141010052310-600.Joe-Biden-JR-101014.jpg?downsize=600:315\n",
            "[%] File Downloaded !\n",
            "\n",
            "[%] Downloading Image #15 from http://www.dailyherald.com/storyimage/DA/20120628/news/706289630/EP/1/4/EP-706289630.jpg&amp;updated=201206281851&amp;imageversion=Facebook&amp;exactH=630&amp;exactW=1200&amp;exactfit=crop&amp;noborder\n",
            "[%] File Downloaded !\n",
            "\n",
            "[%] Downloading Image #16 from https://photos.costume-works.com/full/ice_cream_man21.jpg\n",
            "[%] File Downloaded !\n",
            "\n",
            "\n",
            "\n",
            "[!!]Indexing page: 2\n",
            "\n",
            "[%] Indexed 17 Images on Page 2.\n",
            "\n",
            "===============================================\n",
            "\n",
            "\n",
            "\n",
            "[!!]Indexing page: 3\n",
            "\n",
            "[%] Indexed 16 Images on Page 3.\n",
            "\n",
            "===============================================\n",
            "\n",
            "\n",
            "\n",
            "[!!]Indexing page: 4\n",
            "\n",
            "[%] Indexed 15 Images on Page 4.\n",
            "\n",
            "===============================================\n",
            "\n",
            "\n",
            "\n",
            "[!!]Indexing page: 5\n",
            "\n",
            "[%] Indexed 14 Images on Page 5.\n",
            "\n",
            "===============================================\n",
            "\n",
            "\n",
            "\n",
            "[!!]Indexing page: 6\n",
            "\n",
            "[%] Indexed 13 Images on Page 6.\n",
            "\n",
            "===============================================\n",
            "\n",
            "\n",
            "\n",
            "[!!]Indexing page: 7\n",
            "\n",
            "[%] Indexed 12 Images on Page 7.\n",
            "\n",
            "===============================================\n",
            "\n",
            "\n",
            "\n",
            "[!!]Indexing page: 8\n",
            "\n",
            "[%] Indexed 11 Images on Page 8.\n",
            "\n",
            "===============================================\n",
            "\n",
            "\n",
            "\n",
            "[!!]Indexing page: 9\n",
            "\n",
            "[%] Indexed 10 Images on Page 9.\n",
            "\n",
            "===============================================\n",
            "\n",
            "\n",
            "\n",
            "[!!]Indexing page: 10\n",
            "\n",
            "[%] Indexed 9 Images on Page 10.\n",
            "\n",
            "===============================================\n",
            "\n",
            "\n",
            "\n",
            "[!!]Indexing page: 11\n",
            "\n",
            "[%] Indexed 8 Images on Page 11.\n",
            "\n",
            "===============================================\n",
            "\n",
            "[%] Downloading Image #17 from https://i.pinimg.com/736x/06/f3/30/06f33012c80f06bb4d62328c6ca26ad1.jpg\n",
            "[%] File Downloaded !\n",
            "\n",
            "[%] Downloading Image #18 from https://images.foxtv.com/static.fox26houston.com/www.fox26houston.com/content/uploads/2021/02/764/432/Cookies-n-Cream-Cone-Final-scaled.jpg?ve=1&amp;tl=1\n",
            "[%] File Downloaded !\n",
            "\n",
            "[%] Downloading Image #19 from http://www.holidayscalendar.com/wp-content/uploads/2020/11/Ice-Cream-for-Breakfast-Day.jpg\n",
            "[%] File Downloaded !\n",
            "\n",
            "[%] Downloading Image #20 from https://wallpapershome.com/images/wallpapers/ice-cream-1920x1080-apricot-delicious-4k-15365.jpg\n",
            "[%] File Downloaded !\n",
            "\n",
            "\n",
            "\n",
            "[%] Done. Downloaded 20 images.\n",
            "time: 31.7 s (started: 2022-07-17 19:13:48 +00:00)\n"
          ]
        }
      ]
    },
    {
      "cell_type": "code",
      "source": [
        "!ls 'image_classyy'/'ice cream cone'"
      ],
      "metadata": {
        "colab": {
          "base_uri": "https://localhost:8080/"
        },
        "id": "PufK_LKflMIB",
        "outputId": "bb51bcf4-29fc-40c0-f4e8-352869e49074"
      },
      "execution_count": null,
      "outputs": [
        {
          "output_type": "stream",
          "name": "stdout",
          "text": [
            "Image_10.jpg  Image_14.jpg  Image_18.jpg  Image_2.png\tImage_6.jpg\n",
            "Image_11.jpg  Image_15.jpg  Image_19.jpg  Image_3.jpeg\tImage_7.jpg\n",
            "Image_12.jpg  Image_16.jpg  Image_1.jpg   Image_4.jpg\tImage_8.jpg\n",
            "Image_13.jpg  Image_17.jpg  Image_20.jpg  Image_5.jpg\tImage_9.jpg\n",
            "time: 114 ms (started: 2022-07-17 19:14:26 +00:00)\n"
          ]
        }
      ]
    },
    {
      "cell_type": "code",
      "source": [
        "from IPython.display import Image\n",
        "Image(\"image_classyy/ice cream cone/Image_10.jpg\")"
      ],
      "metadata": {
        "colab": {
          "base_uri": "https://localhost:8080/",
          "height": 194
        },
        "id": "zicBtPVKlVYT",
        "outputId": "d2633486-316a-4ec7-c792-d5e9803cb474"
      },
      "execution_count": null,
      "outputs": [
        {
          "output_type": "execute_result",
          "data": {
            "text/plain": [
              "<IPython.core.display.Image object>"
            ],
            "image/jpeg": "[encoded data removed]"
          },
          "metadata": {},
          "execution_count": 6
        },
        {
          "output_type": "stream",
          "name": "stdout",
          "text": [
            "time: 6.92 ms (started: 2022-07-17 19:14:52 +00:00)\n"
          ]
        }
      ]
    },
    {
      "cell_type": "code",
      "source": [
        "import os\n",
        "import matplotlib.pyplot as plt\n",
        "import numpy as np\n",
        "from skimage.io import imread\n",
        "from skimage.transform import resize"
      ],
      "metadata": {
        "colab": {
          "base_uri": "https://localhost:8080/"
        },
        "id": "tDFC1wxblblK",
        "outputId": "5cf69574-ab19-4adc-8e9d-a5556e13ef67"
      },
      "execution_count": null,
      "outputs": [
        {
          "output_type": "stream",
          "name": "stdout",
          "text": [
            "time: 664 ms (started: 2022-07-17 19:15:00 +00:00)\n"
          ]
        }
      ]
    },
    {
      "cell_type": "code",
      "source": [
        "# Flatten is used to convert the matrix dimmensions\n",
        "# EXAMPLE\n",
        "\n",
        "a = np.array([[1,2,3],[10,20,30]])\n",
        "print(\"Before Flatten: \",a)\n",
        "print(\"After Flatten: \",a.flatten())"
      ],
      "metadata": {
        "colab": {
          "base_uri": "https://localhost:8080/"
        },
        "id": "JSQjLzSPld0q",
        "outputId": "16207bf0-aa4b-442f-a86f-f1c25209d9cd"
      },
      "execution_count": null,
      "outputs": [
        {
          "output_type": "stream",
          "name": "stdout",
          "text": [
            "Before Flatten:  [[ 1  2  3]\n",
            " [10 20 30]]\n",
            "After Flatten:  [ 1  2  3 10 20 30]\n",
            "time: 5.72 ms (started: 2022-07-17 19:15:09 +00:00)\n"
          ]
        }
      ]
    },
    {
      "cell_type": "code",
      "source": [
        "target = []\n",
        "images = []\n",
        "flat_data = []\n",
        "DATADIR = 'image_classyy'\n",
        "CATEGORIES = ['pretty sunflower','rugby ball leather','ice cream cone']"
      ],
      "metadata": {
        "colab": {
          "base_uri": "https://localhost:8080/"
        },
        "id": "SlCq3Ri9lfy1",
        "outputId": "6df1b636-9c76-469c-f6f8-839103c406cd"
      },
      "execution_count": null,
      "outputs": [
        {
          "output_type": "stream",
          "name": "stdout",
          "text": [
            "time: 1.93 ms (started: 2022-07-17 19:15:26 +00:00)\n"
          ]
        }
      ]
    },
    {
      "cell_type": "code",
      "source": [
        "for categories in CATEGORIES:\n",
        "    class_num = CATEGORIES.index(categories)\n",
        "    print(class_num)\n",
        "    "
      ],
      "metadata": {
        "colab": {
          "base_uri": "https://localhost:8080/"
        },
        "id": "ZKrM0_97liVy",
        "outputId": "267ba84d-158b-4396-99ab-9d61c6bbb32d"
      },
      "execution_count": null,
      "outputs": [
        {
          "output_type": "stream",
          "name": "stdout",
          "text": [
            "0\n",
            "1\n",
            "2\n",
            "time: 1.3 ms (started: 2022-07-17 19:15:36 +00:00)\n"
          ]
        }
      ]
    },
    {
      "cell_type": "markdown",
      "source": [
        "**PRE PROCESSING:**\n",
        "*   Resize\n",
        "*   Flatten"
      ],
      "metadata": {
        "id": "Bptt_o5flrJC"
      }
    },
    {
      "cell_type": "code",
      "source": [
        "# Let's print the path of each categories\n",
        "\n",
        "for categories in CATEGORIES:\n",
        "    class_num = CATEGORIES.index(categories) # labels for the each categories (index-based)\n",
        "    path = os.path.join(DATADIR,categories) # creating path to use all images\n",
        "    print(class_num)\n",
        "    print(path)\n",
        "    \n",
        "    for img in os.listdir(path):\n",
        "        img_array = imread(os.path.join(path,img))\n",
        "        #plt.imshow(img_array)\n",
        "        plt.axis(\"off\")\n",
        "        img_resized = resize(img_array,(150,150,3))\n",
        "        flat_data.append(img_resized.flatten())\n",
        "        images.append(img_resized)\n",
        "        target.append(class_num) # target will be our indexs\n",
        "# converting to travel the entire as like as array\n",
        "\n",
        "flat_data = np.array(flat_data) #converting into array\n",
        "target = np.array(target) \n",
        "images = np.array(images)"
      ],
      "metadata": {
        "colab": {
          "base_uri": "https://localhost:8080/",
          "height": 369
        },
        "id": "Qp9u1R_8lmi4",
        "outputId": "1967a73c-b0a0-40ee-ea45-372f67da078e"
      },
      "execution_count": null,
      "outputs": [
        {
          "output_type": "stream",
          "name": "stdout",
          "text": [
            "0\n",
            "image_classyy/pretty sunflower\n",
            "1\n",
            "image_classyy/rugby ball leather\n",
            "2\n",
            "image_classyy/ice cream cone\n"
          ]
        },
        {
          "output_type": "display_data",
          "data": {
            "text/plain": [
              "<Figure size 432x288 with 1 Axes>"
            ],
            "image/png": "[encoded data removed]"
          },
          "metadata": {
            "needs_background": "light"
          }
        },
        {
          "output_type": "stream",
          "name": "stdout",
          "text": [
            "time: 27.9 s (started: 2022-07-17 19:16:13 +00:00)\n"
          ]
        }
      ]
    },
    {
      "cell_type": "code",
      "source": [
        "flat_data"
      ],
      "metadata": {
        "colab": {
          "base_uri": "https://localhost:8080/"
        },
        "id": "bbSeXiGVlvnH",
        "outputId": "19c2e411-73e3-4f46-a88f-1609132d39da"
      },
      "execution_count": null,
      "outputs": [
        {
          "output_type": "execute_result",
          "data": {
            "text/plain": [
              "array([[0.24768314, 0.2292549 , 0.2216502 , ..., 0.03529412, 0.04313725,\n",
              "        0.03921569],\n",
              "       [0.29252288, 0.12460131, 0.01105882, ..., 0.10965386, 0.25168627,\n",
              "        0.01639216],\n",
              "       [0.37137255, 0.50196078, 0.46039216, ..., 0.02352941, 0.05372549,\n",
              "        0.098     ],\n",
              "       ...,\n",
              "       [0.99607843, 0.99607843, 0.99607843, ..., 0.99607843, 0.99607843,\n",
              "        0.99607843],\n",
              "       [1.        , 1.        , 1.        , ..., 1.        , 1.        ,\n",
              "        1.        ],\n",
              "       [0.16121569, 0.20676976, 0.07581847, ..., 0.38706179, 0.42292959,\n",
              "        0.18150475]])"
            ]
          },
          "metadata": {},
          "execution_count": 12
        },
        {
          "output_type": "stream",
          "name": "stdout",
          "text": [
            "time: 12.4 ms (started: 2022-07-17 19:16:44 +00:00)\n"
          ]
        }
      ]
    },
    {
      "cell_type": "code",
      "source": [
        "flat_data[0]"
      ],
      "metadata": {
        "colab": {
          "base_uri": "https://localhost:8080/"
        },
        "id": "ojdWO80Hl3GM",
        "outputId": "6130f587-6b06-4e06-da77-735bc6cd65e2"
      },
      "execution_count": null,
      "outputs": [
        {
          "output_type": "execute_result",
          "data": {
            "text/plain": [
              "array([0.24768314, 0.2292549 , 0.2216502 , ..., 0.03529412, 0.04313725,\n",
              "       0.03921569])"
            ]
          },
          "metadata": {},
          "execution_count": 13
        },
        {
          "output_type": "stream",
          "name": "stdout",
          "text": [
            "time: 7.15 ms (started: 2022-07-17 19:16:57 +00:00)\n"
          ]
        }
      ]
    },
    {
      "cell_type": "code",
      "source": [
        "len(flat_data[0])"
      ],
      "metadata": {
        "colab": {
          "base_uri": "https://localhost:8080/"
        },
        "id": "kqZiXY53l6Mx",
        "outputId": "6a65b927-2576-4d42-b7a0-101b3fac7f58"
      },
      "execution_count": null,
      "outputs": [
        {
          "output_type": "execute_result",
          "data": {
            "text/plain": [
              "67500"
            ]
          },
          "metadata": {},
          "execution_count": 14
        },
        {
          "output_type": "stream",
          "name": "stdout",
          "text": [
            "time: 5.08 ms (started: 2022-07-17 19:17:04 +00:00)\n"
          ]
        }
      ]
    },
    {
      "cell_type": "code",
      "source": [
        "flat_data.shape"
      ],
      "metadata": {
        "colab": {
          "base_uri": "https://localhost:8080/"
        },
        "id": "ARE3ahcbl73R",
        "outputId": "2856c32c-a1df-46f9-f5d5-c690950a5f74"
      },
      "execution_count": null,
      "outputs": [
        {
          "output_type": "execute_result",
          "data": {
            "text/plain": [
              "(60, 67500)"
            ]
          },
          "metadata": {},
          "execution_count": 15
        },
        {
          "output_type": "stream",
          "name": "stdout",
          "text": [
            "time: 4.83 ms (started: 2022-07-17 19:17:11 +00:00)\n"
          ]
        }
      ]
    },
    {
      "cell_type": "code",
      "source": [
        "target"
      ],
      "metadata": {
        "colab": {
          "base_uri": "https://localhost:8080/"
        },
        "id": "QwLZtxpol9kS",
        "outputId": "7fbc6568-0de6-4c70-bf4f-47d058dc14d1"
      },
      "execution_count": null,
      "outputs": [
        {
          "output_type": "execute_result",
          "data": {
            "text/plain": [
              "array([0, 0, 0, 0, 0, 0, 0, 0, 0, 0, 0, 0, 0, 0, 0, 0, 0, 0, 0, 0, 1, 1,\n",
              "       1, 1, 1, 1, 1, 1, 1, 1, 1, 1, 1, 1, 1, 1, 1, 1, 1, 1, 2, 2, 2, 2,\n",
              "       2, 2, 2, 2, 2, 2, 2, 2, 2, 2, 2, 2, 2, 2, 2, 2])"
            ]
          },
          "metadata": {},
          "execution_count": 16
        },
        {
          "output_type": "stream",
          "name": "stdout",
          "text": [
            "time: 5.27 ms (started: 2022-07-17 19:17:18 +00:00)\n"
          ]
        }
      ]
    },
    {
      "cell_type": "code",
      "source": [
        "target.shape"
      ],
      "metadata": {
        "colab": {
          "base_uri": "https://localhost:8080/"
        },
        "id": "oPUK1Dkkl_Vb",
        "outputId": "ddf73abb-684a-46ef-8ee0-47057e10a953"
      },
      "execution_count": null,
      "outputs": [
        {
          "output_type": "execute_result",
          "data": {
            "text/plain": [
              "(60,)"
            ]
          },
          "metadata": {},
          "execution_count": 17
        },
        {
          "output_type": "stream",
          "name": "stdout",
          "text": [
            "time: 5.07 ms (started: 2022-07-17 19:17:28 +00:00)\n"
          ]
        }
      ]
    },
    {
      "cell_type": "markdown",
      "source": [
        "**SPLITING THE DATA INTO TRAINING AND TESTING**"
      ],
      "metadata": {
        "id": "oDx0Qh1QmEiP"
      }
    },
    {
      "cell_type": "code",
      "source": [
        "from sklearn.model_selection import train_test_split\n",
        "X_train,X_test,Y_train,Y_test = train_test_split(flat_data,target,test_size=0.3,random_state=42)\n",
        "print('X_train.shape',X_train.shape)\n",
        "print('X_test.shape',X_test.shape)\n",
        "print('Y_train.shape',Y_train.shape)\n",
        "print('Y_test.shape',Y_test.shape)"
      ],
      "metadata": {
        "colab": {
          "base_uri": "https://localhost:8080/"
        },
        "id": "aAoBEVEamBuB",
        "outputId": "54dd631d-4340-4143-a376-5f9d4e6ba333"
      },
      "execution_count": null,
      "outputs": [
        {
          "output_type": "stream",
          "name": "stdout",
          "text": [
            "X_train.shape (42, 67500)\n",
            "X_test.shape (18, 67500)\n",
            "Y_train.shape (42,)\n",
            "Y_test.shape (18,)\n",
            "time: 238 ms (started: 2022-07-17 19:17:55 +00:00)\n"
          ]
        }
      ]
    },
    {
      "cell_type": "code",
      "source": [
        "from sklearn.model_selection import GridSearchCV\n",
        "from sklearn import svm\n",
        "param_grid = [\n",
        "    {'C':[1,10,100,1000],'kernel':['linear']},\n",
        "    {'C':[1,10,100,1000],'gamma':[0.001,0.0001],'kernel':['rbf']},\n",
        "]\n",
        "# to understand along with this image probablity and another image probablity line bar to see what % accuracte \n",
        "svc = svm.SVC(probability=True)\n",
        "clf = GridSearchCV(svc,param_grid)\n",
        "clf.fit(X_train,Y_train)#makes predictions"
      ],
      "metadata": {
        "colab": {
          "base_uri": "https://localhost:8080/"
        },
        "id": "NJARoqCImIel",
        "outputId": "35ceb8be-292f-433a-e19f-201cd5fa99c1"
      },
      "execution_count": null,
      "outputs": [
        {
          "output_type": "execute_result",
          "data": {
            "text/plain": [
              "GridSearchCV(estimator=SVC(probability=True),\n",
              "             param_grid=[{'C': [1, 10, 100, 1000], 'kernel': ['linear']},\n",
              "                         {'C': [1, 10, 100, 1000], 'gamma': [0.001, 0.0001],\n",
              "                          'kernel': ['rbf']}])"
            ]
          },
          "metadata": {},
          "execution_count": 19
        },
        {
          "output_type": "stream",
          "name": "stdout",
          "text": [
            "time: 28.2 s (started: 2022-07-17 19:18:07 +00:00)\n"
          ]
        }
      ]
    },
    {
      "cell_type": "code",
      "source": [
        "y_pred = clf.predict(X_test)#evaluates model\n",
        "print('y_pred:',y_pred)\n",
        "print(clf.score(X_train,Y_train)*100)"
      ],
      "metadata": {
        "colab": {
          "base_uri": "https://localhost:8080/"
        },
        "id": "2iKLOXYzmLQQ",
        "outputId": "97903e72-31bd-40b7-c349-f9ddb8fd4a62"
      },
      "execution_count": null,
      "outputs": [
        {
          "output_type": "stream",
          "name": "stdout",
          "text": [
            "y_pred: [0 0 1 1 0 2 1 2 0 2 2 2 1 0 2 0 0 1]\n",
            "100.0\n",
            "time: 1.22 s (started: 2022-07-17 19:18:39 +00:00)\n"
          ]
        }
      ]
    },
    {
      "cell_type": "code",
      "source": [
        "from sklearn.metrics import accuracy_score,confusion_matrix\n",
        "accuracy_score(Y_test,y_pred)*100"
      ],
      "metadata": {
        "colab": {
          "base_uri": "https://localhost:8080/"
        },
        "id": "31u7xZ6YmTHL",
        "outputId": "359425d9-9341-4e61-ebc7-ba8272612eb3"
      },
      "execution_count": null,
      "outputs": [
        {
          "output_type": "execute_result",
          "data": {
            "text/plain": [
              "88.88888888888889"
            ]
          },
          "metadata": {},
          "execution_count": 25
        },
        {
          "output_type": "stream",
          "name": "stdout",
          "text": [
            "time: 6.98 ms (started: 2022-07-17 19:26:17 +00:00)\n"
          ]
        }
      ]
    },
    {
      "cell_type": "code",
      "source": [
        "confusion_matrix(y_pred,Y_test)"
      ],
      "metadata": {
        "colab": {
          "base_uri": "https://localhost:8080/"
        },
        "id": "rEj4qHhvmVtC",
        "outputId": "97395f6f-b901-4a0c-fb71-2703b5fec5ba"
      },
      "execution_count": null,
      "outputs": [
        {
          "output_type": "execute_result",
          "data": {
            "text/plain": [
              "array([[7, 0, 0],\n",
              "       [1, 3, 1],\n",
              "       [0, 0, 6]])"
            ]
          },
          "metadata": {},
          "execution_count": 26
        },
        {
          "output_type": "stream",
          "name": "stdout",
          "text": [
            "time: 5.4 ms (started: 2022-07-17 19:26:25 +00:00)\n"
          ]
        }
      ]
    },
    {
      "cell_type": "markdown",
      "source": [
        "**Save the model using \"PICKLE\" library**"
      ],
      "metadata": {
        "id": "RmR6XYbRmfc4"
      }
    },
    {
      "cell_type": "code",
      "source": [
        "import pickle\n",
        "pickle.dump(clf,open('img_model.p','wb'))\n",
        "model = pickle.load(open('img_model.p','rb'))"
      ],
      "metadata": {
        "colab": {
          "base_uri": "https://localhost:8080/"
        },
        "id": "czsiWB-3mcFW",
        "outputId": "a8addd18-4c34-49a4-c3f5-1249f37b5388"
      },
      "execution_count": null,
      "outputs": [
        {
          "output_type": "stream",
          "name": "stdout",
          "text": [
            "time: 52.4 ms (started: 2022-07-17 19:26:30 +00:00)\n"
          ]
        }
      ]
    },
    {
      "cell_type": "markdown",
      "source": [
        "**Testing a brand new image urls from google itself**"
      ],
      "metadata": {
        "id": "lgr68yXLmfAf"
      }
    },
    {
      "cell_type": "code",
      "source": [
        "flat_data = []\n",
        "url = input(\"Enter the URL\")\n",
        "img = imread(url)\n",
        "img_resized = resize(img,(150,150,3))\n",
        "flat_data.append(img_resized.flatten())\n",
        "flat_data = np.array(flat_data)\n",
        "print(img.shape)\n",
        "plt.imshow(img_resized)\n",
        "y_out = model.predict(flat_data)\n",
        "y_out = CATEGORIES[y_out[0]]\n",
        "# formatted string\n",
        "print(f' Predicted output: {y_out}')"
      ],
      "metadata": {
        "colab": {
          "base_uri": "https://localhost:8080/",
          "height": 338
        },
        "id": "QZGBaOsimnON",
        "outputId": "16cc4ed7-2d92-405c-e4e5-dd3ce15b6efe"
      },
      "execution_count": null,
      "outputs": [
        {
          "output_type": "stream",
          "name": "stdout",
          "text": [
            "Enter the URLhttps://3.imimg.com/data3/GM/GA/MY-3734274/rugby-ball-250x250.jpg\n",
            "(250, 250, 3)\n",
            " Predicted output: rugby ball leather\n"
          ]
        },
        {
          "output_type": "display_data",
          "data": {
            "text/plain": [
              "<Figure size 432x288 with 1 Axes>"
            ],
            "image/png": "[encoded data removed]"
          },
          "metadata": {
            "needs_background": "light"
          }
        },
        {
          "output_type": "stream",
          "name": "stdout",
          "text": [
            "time: 7.96 s (started: 2022-07-17 19:26:38 +00:00)\n"
          ]
        }
      ]
    }
  ]
}